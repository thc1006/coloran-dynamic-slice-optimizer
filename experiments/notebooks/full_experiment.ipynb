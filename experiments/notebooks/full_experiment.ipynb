# full_experiment.ipynb - Cell 1: Introduction and Setup
"""
# coloran-dynamic-slice-optimizer: Full Experiment Notebook

This notebook contains the complete end-to-end pipeline for the project, from data loading to final analysis.
It is based on the original Google Colab script.
"""
# Import main libraries
import sys
import os
import warnings
warnings.filterwarnings('ignore')

# Add src to path
sys.path.append(os.path.abspath(os.path.join(os.getcwd(), '../..')))

# --- End of Cell 1 ---

# Cell 2: Data Loading
from src.data.data_loader import ColoRANDataLoader

print("## 1. Loading Data ##")
loader = ColoRANDataLoader()
loader.download_dataset()
raw_data = loader.load_raw_data()
if raw_data is not None:
    print(raw_data.info())
    raw_data.to_parquet("raw_slice_data.parquet")

# --- End of Cell 2 ---

# Cell 3: Feature Engineering
from src.data.data_processor import MemoryOptimizedProcessor

print("\n## 2. Processing Data ##")
slice_configs = {f'tr{i}': v for i, v in enumerate([
    [2, 13, 2], [4, 11, 2], [6, 9, 2], [8, 7, 2], [10, 5, 2], [12, 3, 2], [14, 1, 2],
    [2, 11, 4], [4, 9, 4], [6, 7, 4], [8, 5, 4], [10, 3, 4], [12, 1, 4], [2, 9, 6],
    [4, 7, 6], [6, 5, 6], [8, 3, 6], [10, 1, 6], [2, 7, 8], [4, 5, 8], [6, 3, 8],
    [8, 1, 8], [2, 5, 10], [4, 3, 10], [6, 1, 10], [2, 3, 12], [4, 1, 12], [2, 1, 14]
])}
processor = MemoryOptimizedProcessor(slice_configs)
processed_data = processor.process_data(raw_data)
if processed_data is not None:
    print(processed_data.head())
    processed_data.to_parquet("processed_features.parquet")

# --- End of Cell 3 ---

# Cell 4: Model Training
from src.models.ml_trainer import A100OptimizedTrainer
import pandas as pd

print("\n## 3. Training Models ##")
trainer = A100OptimizedTrainer(use_gpu=True)
features = processor.feature_columns
target = 'allocation_efficiency'
X_train, X_test, y_train, y_test = trainer.prepare_data(processed_data, features, target)

trainer.train_random_forest(X_train, y_train)
history = trainer.train_neural_network(X_train, y_train, X_test, y_test)

results = trainer.evaluate_models(X_test, y_test)
trainer.save_models(path=".")

# --- End of Cell 4 ---

# Cell 5: Optimization Simulation
from src.optimization.allocator import SliceResourceAllocator

print("\n## 4. Running Simulation ##")
model_path = 'rf_model.pkl'
scaler_path = 'scaler.pkl'
allocator = SliceResourceAllocator(model_path, scaler_path, features)
sim_results = allocator.simulate(steps=100, method="genetic")
sim_results.to_csv('simulation_results.csv', index=False)
print(sim_results.describe())

# --- End of Cell 5 ---

# Cell 6: Visualization
from src.visualization.plotting import create_comprehensive_visualization

print("\n## 5. Generating Visualization ##")
feature_importance_df = pd.DataFrame({
    'feature': features,
    'importance': trainer.rf_model.feature_importances_
}).sort_values(by='importance', ascending=False)

create_comprehensive_visualization(
    feature_importance_df=feature_importance_df,
    history=history,
    sim_results=sim_results,
    output_path='notebook_visualization.png'
)

# --- End of Cell 6 ---
